{
  "nbformat": 4,
  "nbformat_minor": 0,
  "metadata": {
    "colab": {
      "provenance": [],
      "include_colab_link": true
    },
    "kernelspec": {
      "name": "python3",
      "display_name": "Python 3"
    },
    "language_info": {
      "name": "python"
    }
  },
  "cells": [
    {
      "cell_type": "markdown",
      "metadata": {
        "id": "view-in-github",
        "colab_type": "text"
      },
      "source": [
        "<a href=\"https://colab.research.google.com/github/Deri-Nugroho/Intensive-Camp-Machine-Learning-2/blob/main/LOGISTIC_REGRETION.ipynb\" target=\"_parent\"><img src=\"https://colab.research.google.com/assets/colab-badge.svg\" alt=\"Open In Colab\"/></a>"
      ]
    },
    {
      "cell_type": "markdown",
      "source": [
        "# 📘 Logistic Regression"
      ],
      "metadata": {
        "id": "vqZv3GErM9cB"
      }
    },
    {
      "cell_type": "markdown",
      "source": [
        "### Apa itu Logistic Regression?\n",
        "Logistic Regression adalah algoritma supervised learning yang digunakan untuk klasifikasi, bukan regresi seperti namanya. Logistic Regression memprediksi probabilitas sebuah data masuk ke dalam kelas tertentu (biasanya dua kelas: 0 atau 1).\n",
        "\n",
        "Contoh Kasus:\n",
        "*   Memprediksi apakah email adalah spam atau bukan.\n",
        "*   Memprediksi apakah pelanggan akan churn atau tidak.\n",
        "*   Memprediksi apakah pasien memiliki penyakit tertentu (ya/tidak)."
      ],
      "metadata": {
        "id": "Ja6uWsTCNNb2"
      }
    },
    {
      "cell_type": "markdown",
      "source": [
        "### Perbedaan Linear vs Logistic Regression\n",
        "| Fitur           | Linear Regression            | Logistic Regression                          |\n",
        "| --------------- | ---------------------------- | -------------------------------------------- |\n",
        "| Output          | Nilai kontinu (misal: harga) | Probabilitas / klasifikasi (misal: 0 atau 1) |\n",
        "| Fungsi Aktivasi | Tidak ada                    | Sigmoid                                      |\n",
        "| Digunakan untuk | Prediksi nilai               | Prediksi kelas                               |\n"
      ],
      "metadata": {
        "id": "op5zCN_dNgWf"
      }
    },
    {
      "cell_type": "markdown",
      "source": [
        "### Fungsi Sigmoid (Logistik)\n",
        "Fungsi sigmoid mengubah output linear menjadi nilai antara 0 dan 1:\n",
        "\n",
        "𝜎(𝑧)=1/1+𝑒−𝑧\n",
        "\n",
        "Di mana:\n",
        "*   z = w_1x_1 + w_2x_2 + ... + w_nx_n + b\n",
        "*   σ(z) adalah probabilitas dari kelas 1\n",
        "\n"
      ],
      "metadata": {
        "id": "YGr0B5N5Ntjg"
      }
    },
    {
      "cell_type": "markdown",
      "source": [
        "### Kelebihan & Kekurangan Logistic Regression\n",
        "Kelebihan:\n",
        "\n",
        "\n",
        "*   Mudah diinterpretasikan (koefisien menunjukkan pengaruh).\n",
        "*   Cepat dan efisien untuk dataset kecil hingga menengah.\n",
        "*   Output probabilitas (bisa digunakan untuk analisis risiko).\n",
        "\n",
        "Kekurangan:\n",
        "\n",
        "*   Tidak menangani hubungan non-linier dengan baik (kecuali ditambahkan fitur polinomial).\n",
        "*   Kurang optimal untuk dataset besar dan kompleks.\n",
        "*   Sensitif terhadap multikolinearitas.\n",
        "\n"
      ],
      "metadata": {
        "id": "sv7qOqQMPJLv"
      }
    },
    {
      "cell_type": "markdown",
      "source": [
        "# Contoh Program Python: Logistic Regression"
      ],
      "metadata": {
        "id": "RzigEFwzOzVy"
      }
    },
    {
      "cell_type": "code",
      "source": [
        "import os  # Modul untuk operasi file dan sistem\n",
        "import pandas as pd  # Library untuk manipulasi data\n",
        "import numpy as np  # Library untuk komputasi numerik\n",
        "import seaborn as sns  # Library untuk visualisasi data\n",
        "import matplotlib.pyplot as plt  # Library untuk membuat grafik\n",
        "from sklearn.model_selection import train_test_split  # Untuk membagi dataset menjadi data latih dan uji\n",
        "from sklearn.preprocessing import StandardScaler  # Untuk normalisasi fitur\n",
        "from sklearn.linear_model import LogisticRegression  # Model regresi logistik\n",
        "from sklearn.metrics import accuracy_score, confusion_matrix, classification_report, roc_auc_score  # Metrik evaluasi model\n",
        "\n",
        "# Mengecek apakah dataset sudah ada, jika tidak, download dari Kaggle\n",
        "dataset_name = \"Social_Network_Ads.csv\"\n",
        "if not os.path.exists(dataset_name):  # Cek apakah file ada di direktori\n",
        "    print(\"Mengunduh dataset dari Kaggle...\")\n",
        "    os.system(\"kaggle datasets download -d dragonheir/logistic-regression\")  # Download dataset dari Kaggle\n",
        "    os.system(\"unzip logistic-regression.zip\")  # Ekstrak file zip\n",
        "\n",
        "# Membaca dataset ke dalam DataFrame\n",
        "df = pd.read_csv(\"Social_Network_Ads.csv\")\n",
        "print(df.head(), \"\\n\")  # Menampilkan 5 baris pertama dataset\n",
        "\n",
        "# Menampilkan informasi dataset\n",
        "print(df.info(), \"\\n\")  # Menampilkan tipe data dan jumlah data\n",
        "\n",
        "# Menghapus kolom yang tidak relevan\n",
        "df.drop(columns=['User ID'], inplace=True)  # 'User ID' tidak berkontribusi pada prediksi\n",
        "\n",
        "# Mengonversi kolom 'Gender' menjadi numerik\n",
        "df['Gender'] = df['Gender'].map({'Male': 0, 'Female': 1})  # Ubah 'Male' = 0 dan 'Female' = 1\n",
        "\n",
        "# Menampilkan statistik deskriptif\n",
        "print(df.describe(), \"\\n\")  # Menampilkan ringkasan statistik data\n",
        "\n",
        "# Mengecek apakah ada nilai yang hilang dalam dataset\n",
        "if df.isnull().sum().sum() > 0:\n",
        "    print(\"Dataset mengandung nilai kosong, melakukan imputasi...\")\n",
        "    df.fillna(df.median(), inplace=True)  # Jika ada nilai kosong, isi dengan median\n",
        "\n",
        "# Visualisasi distribusi kelas target\n",
        "sns.countplot(x=df['Purchased'])  # Plot jumlah masing-masing kelas target\n",
        "plt.title(\"Distribusi Kelas Target\")\n",
        "plt.show()\n",
        "\n",
        "# Memisahkan fitur (X) dan label (y)\n",
        "y = df['Purchased']  # Label (target)\n",
        "X = df.drop(columns=['Purchased'])  # Fitur (independent variables)\n",
        "\n",
        "# Normalisasi fitur menggunakan StandardScaler\n",
        "scaler = StandardScaler()\n",
        "X_scaled = scaler.fit_transform(X)  # Normalisasi agar fitur memiliki skala yang sama\n",
        "\n",
        "# Membagi dataset menjadi training (80%) dan testing (20%)\n",
        "X_train, X_test, y_train, y_test = train_test_split(\n",
        "    X_scaled, y, test_size=0.2, random_state=42, stratify=y\n",
        ")\n",
        "\n",
        "# Inisialisasi model regresi logistik\n",
        "model = LogisticRegression()\n",
        "\n",
        "# Melatih model dengan data training\n",
        "model.fit(X_train, y_train)\n",
        "\n",
        "# Melakukan prediksi pada data uji\n",
        "y_pred = model.predict(X_test)\n",
        "\n",
        "# Evaluasi model\n",
        "accuracy = accuracy_score(y_test, y_pred)  # Menghitung akurasi model\n",
        "roc_auc = roc_auc_score(y_test, model.predict_proba(X_test)[:, 1])  # Menghitung ROC-AUC Score\n",
        "\n",
        "# Menampilkan hasil evaluasi\n",
        "print(f'Akurasi Model: {accuracy:.2f}')\n",
        "print(f'ROC-AUC Score: {roc_auc:.2f}')\n",
        "\n",
        "# Membuat Confusion Matrix untuk melihat performa prediksi\n",
        "conf_matrix = confusion_matrix(y_test, y_pred)\n",
        "sns.heatmap(conf_matrix, annot=True, fmt='d', cmap='Blues')  # Visualisasi Confusion Matrix\n",
        "plt.xlabel('Predicted')\n",
        "plt.ylabel('Actual')\n",
        "plt.title('Confusion Matrix')\n",
        "plt.show()\n",
        "\n",
        "# Menampilkan laporan klasifikasi\n",
        "print(\"Classification Report:\")\n",
        "print(classification_report(y_test, y_pred))\n"
      ],
      "metadata": {
        "colab": {
          "base_uri": "https://localhost:8080/",
          "height": 1000
        },
        "id": "YM5PgCILmof_",
        "outputId": "00f38bfb-ec65-4d6f-9ced-ef4bddaa4527"
      },
      "execution_count": null,
      "outputs": [
        {
          "output_type": "stream",
          "name": "stdout",
          "text": [
            "    User ID  Gender  Age  EstimatedSalary  Purchased\n",
            "0  15624510    Male   19            19000          0\n",
            "1  15810944    Male   35            20000          0\n",
            "2  15668575  Female   26            43000          0\n",
            "3  15603246  Female   27            57000          0\n",
            "4  15804002    Male   19            76000          0 \n",
            "\n",
            "<class 'pandas.core.frame.DataFrame'>\n",
            "RangeIndex: 400 entries, 0 to 399\n",
            "Data columns (total 5 columns):\n",
            " #   Column           Non-Null Count  Dtype \n",
            "---  ------           --------------  ----- \n",
            " 0   User ID          400 non-null    int64 \n",
            " 1   Gender           400 non-null    object\n",
            " 2   Age              400 non-null    int64 \n",
            " 3   EstimatedSalary  400 non-null    int64 \n",
            " 4   Purchased        400 non-null    int64 \n",
            "dtypes: int64(4), object(1)\n",
            "memory usage: 15.8+ KB\n",
            "None \n",
            "\n",
            "           Gender         Age  EstimatedSalary   Purchased\n",
            "count  400.000000  400.000000       400.000000  400.000000\n",
            "mean     0.510000   37.655000     69742.500000    0.357500\n",
            "std      0.500526   10.482877     34096.960282    0.479864\n",
            "min      0.000000   18.000000     15000.000000    0.000000\n",
            "25%      0.000000   29.750000     43000.000000    0.000000\n",
            "50%      1.000000   37.000000     70000.000000    0.000000\n",
            "75%      1.000000   46.000000     88000.000000    1.000000\n",
            "max      1.000000   60.000000    150000.000000    1.000000 \n",
            "\n"
          ]
        },
        {
          "output_type": "display_data",
          "data": {
            "text/plain": [
              "<Figure size 640x480 with 1 Axes>"
            ],
            "image/png": "[encoded data removed]"
          },
          "metadata": {}
        },
        {
          "output_type": "stream",
          "name": "stdout",
          "text": [
            "Akurasi Model: 0.81\n",
            "ROC-AUC Score: 0.91\n"
          ]
        },
        {
          "output_type": "display_data",
          "data": {
            "text/plain": [
              "<Figure size 640x480 with 2 Axes>"
            ],
            "image/png": "[encoded data removed]"
          },
          "metadata": {}
        },
        {
          "output_type": "stream",
          "name": "stdout",
          "text": [
            "Classification Report:\n",
            "              precision    recall  f1-score   support\n",
            "\n",
            "           0       0.81      0.92      0.86        51\n",
            "           1       0.82      0.62      0.71        29\n",
            "\n",
            "    accuracy                           0.81        80\n",
            "   macro avg       0.81      0.77      0.78        80\n",
            "weighted avg       0.81      0.81      0.81        80\n",
            "\n"
          ]
        }
      ]
    },
    {
      "cell_type": "code",
      "source": [
        "def predict_user():\n",
        "    \"\"\"Fungsi untuk memprediksi apakah pengguna akan membeli produk berdasarkan input usia, gender, dan gaji.\"\"\"\n",
        "\n",
        "    print(\"\\n🔍 Prediksi Pembelian Berdasarkan Input Pengguna\")\n",
        "\n",
        "    # Meminta input dari user untuk gender, usia, dan gaji\n",
        "    gender = input(\"Masukkan Gender (Male/Female): \").strip().capitalize()  # Menghapus spasi ekstra dan menyamakan format huruf\n",
        "    age = int(input(\"Masukkan Usia: \"))  # Mengonversi input usia menjadi integer\n",
        "    salary = int(input(\"Masukkan Perkiraan Gaji: \"))  # Mengonversi input gaji menjadi integer\n",
        "\n",
        "    # Mengonversi Gender menjadi angka: 'Male' -> 0, 'Female' -> 1\n",
        "    if gender == \"Male\":\n",
        "        gender_num = 0\n",
        "    elif gender == \"Female\":\n",
        "        gender_num = 1\n",
        "    else:\n",
        "        print(\"⚠ Gender tidak valid! Harus 'Male' atau 'Female'.\")  # Jika input tidak valid, tampilkan peringatan dan hentikan fungsi\n",
        "        return\n",
        "\n",
        "    # Membuat array input dengan format yang sesuai untuk model\n",
        "    user_input = np.array([[gender_num, age, salary]])\n",
        "\n",
        "    # Normalisasi input menggunakan StandardScaler agar sesuai dengan data yang dilatih\n",
        "    user_input_scaled = scaler.transform(user_input)\n",
        "\n",
        "    # Melakukan prediksi apakah user akan membeli produk (1) atau tidak (0)\n",
        "    prediction = model.predict(user_input_scaled)\n",
        "\n",
        "    # Menghitung probabilitas prediksi\n",
        "    probability = model.predict_proba(user_input_scaled)[:, 1]\n",
        "\n",
        "    # Menampilkan hasil prediksi kepada pengguna\n",
        "    if prediction[0] == 1:\n",
        "        print(f\"\\n✅ Hasil Prediksi: Kemungkinan BESAR membeli produk! ({probability[0]:.2f} kemungkinan)\")\n",
        "    else:\n",
        "        print(f\"\\n❌ Hasil Prediksi: Kemungkinan TIDAK membeli produk. ({probability[0]:.2f} kemungkinan)\")\n",
        "\n",
        "# Memanggil fungsi prediksi\n",
        "predict_user()\n"
      ],
      "metadata": {
        "colab": {
          "base_uri": "https://localhost:8080/"
        },
        "id": "cEetXaw1n0VS",
        "outputId": "f2674048-b564-43ad-e828-ce85d6cd33cd"
      },
      "execution_count": null,
      "outputs": [
        {
          "output_type": "stream",
          "name": "stdout",
          "text": [
            "\n",
            "🔍 Prediksi Pembelian Berdasarkan Input Pengguna\n",
            "Masukkan Gender (Male/Female): Female\n",
            "Masukkan Usia: 17\n",
            "Masukkan Perkiraan Gaji: 500\n",
            "\n",
            "❌ Hasil Prediksi: Kemungkinan TIDAK membeli produk. (0.00 kemungkinan)\n"
          ]
        },
        {
          "output_type": "stream",
          "name": "stderr",
          "text": [
            "/usr/local/lib/python3.11/dist-packages/sklearn/utils/validation.py:2739: UserWarning: X does not have valid feature names, but StandardScaler was fitted with feature names\n",
            "  warnings.warn(\n"
          ]
        }
      ]
    }
  ]
}